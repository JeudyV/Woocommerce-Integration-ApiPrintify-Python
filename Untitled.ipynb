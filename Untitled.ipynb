{
 "cells": [
  {
   "cell_type": "code",
   "execution_count": null,
   "metadata": {},
   "outputs": [],
   "source": [
    "from woocommerce import API\n",
    "import json\n",
    "\n",
    "wcapi = API(\n",
    "    url=\"https://hollajack.com/\",\n",
    "    consumer_key=\"ck_4cb10c586b18be0419f8ba53e8f9ab4c3c8ce576\",\n",
    "    consumer_secret=\"cs_3dd50c2b150169c14db0c6c7af021f76766f16b7\"\n",
    ")\n",
    "\n",
    "orders = json.loads(wcapi.get(\"orders\").text)\n",
    "print(orders)"
   ]
  },
  {
   "cell_type": "code",
   "execution_count": null,
   "metadata": {},
   "outputs": [],
   "source": []
  }
 ],
 "metadata": {
  "kernelspec": {
   "display_name": "Python 3",
   "language": "python",
   "name": "python3"
  },
  "language_info": {
   "codemirror_mode": {
    "name": "ipython",
    "version": 3
   },
   "file_extension": ".py",
   "mimetype": "text/x-python",
   "name": "python",
   "nbconvert_exporter": "python",
   "pygments_lexer": "ipython3",
   "version": "3.7.5rc1"
  }
 },
 "nbformat": 4,
 "nbformat_minor": 4
}
